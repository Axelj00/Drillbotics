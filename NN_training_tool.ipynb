{
 "cells": [
  {
   "cell_type": "code",
   "execution_count": 10,
   "id": "ceae73f0",
   "metadata": {},
   "outputs": [],
   "source": [
    "import pandas as pd\n",
    "import numpy as np\n",
    "from sklearn.model_selection import train_test_split\n",
    "from sklearn.preprocessing import MinMaxScaler\n",
    "from tensorflow.keras.models import Sequential\n",
    "from tensorflow.keras.layers import Dense, LSTM\n",
    "from tensorflow.keras.callbacks import ReduceLROnPlateau, EarlyStopping, ModelCheckpoint\n",
    "import matplotlib.pyplot as plt\n",
    "from tensorflow.keras.callbacks import ModelCheckpoint\n",
    "from keras.layers import Dense, LSTM, Reshape\n"
   ]
  },
  {
   "cell_type": "code",
   "execution_count": 11,
   "id": "112ba59d",
   "metadata": {},
   "outputs": [],
   "source": [
    "# Load the data\n",
    "%store -r train_data_selected \n",
    "\n",
    "# Load the lists\n",
    "%store -r selected_features\n",
    "%store -r target_col"
   ]
  },
  {
   "cell_type": "code",
   "execution_count": 12,
   "id": "67b556e0",
   "metadata": {},
   "outputs": [],
   "source": [
    "# Split ratio for training and testing\n",
    "split_ratio = 0.8\n",
    "\n",
    "# Initialize empty lists to store dataframes for training and testing\n",
    "train_data = []\n",
    "test_data = []\n",
    "\n",
    "# Get unique simulation IDs\n",
    "unique_sim_ids = train_data_selected['sim_ID'].unique()\n",
    "\n",
    "# Loop through unique simulation IDs and split each simulation\n",
    "for sim_id in unique_sim_ids:\n",
    "    sim_data = train_data_selected[train_data_selected['sim_ID'] == sim_id]\n",
    "    sim_data = sim_data[selected_features]  # Select only the relevant features\n",
    "    \n",
    "    # Calculate the split index\n",
    "    split_index = int(len(sim_data) * split_ratio)\n",
    "    \n",
    "    # Split the simulation data into training and testing\n",
    "    train_sim_data = sim_data.iloc[:split_index]\n",
    "    test_sim_data = sim_data.iloc[split_index:]\n",
    "    \n",
    "    # Append the split data to the respective lists\n",
    "    train_data.append(train_sim_data)\n",
    "    test_data.append(test_sim_data)\n",
    "\n",
    "# Concatenate the dataframes in the lists to create a single dataframe for training and testing\n",
    "train_data_df = pd.concat(train_data, ignore_index=True)\n",
    "test_data_df = pd.concat(test_data, ignore_index=True)"
   ]
  },
  {
   "cell_type": "code",
   "execution_count": 19,
   "id": "c27d99e5",
   "metadata": {},
   "outputs": [],
   "source": [
    "# def prepare_data(sim_data, input_timesteps, output_timesteps, target_col):\n",
    "#     X, y = [], []\n",
    "#     for i in range(len(sim_data) - input_timesteps - output_timesteps + 1):\n",
    "#         X.append(sim_data.iloc[i:i + input_timesteps].values)\n",
    "#         y.append(sim_data.iloc[i + input_timesteps:i + input_timesteps + output_timesteps][target_col].values)\n",
    "#     return np.array(X), np.array(y)\n",
    "\n",
    "# def create_lstm_model(input_timesteps, num_features, output_timesteps):\n",
    "#     model = Sequential()\n",
    "#     model.add(LSTM(units=50, activation='relu', input_shape=(input_timesteps, num_features)))\n",
    "#     model.add(Dense(output_timesteps))\n",
    "#     model.compile(optimizer='adam', loss='mse')\n",
    "#     return model\n",
    "\n",
    "def prepare_data(sim_data, input_timesteps, output_timesteps, target_col):\n",
    "    X, y = [], []\n",
    "    for i in range(len(sim_data) - input_timesteps - output_timesteps + 1):\n",
    "        X.append(sim_data.iloc[i:i + input_timesteps].values)\n",
    "        y_values = sim_data.iloc[i + input_timesteps:i + input_timesteps + output_timesteps][target_col].values\n",
    "        y.append(np.column_stack([y_values] * num_features))  # Repeat the target values for each feature\n",
    "    return np.array(X), np.array(y)\n",
    "\n",
    "def create_lstm_model(input_timesteps, num_features, output_timesteps):\n",
    "    model = Sequential()\n",
    "    model.add(LSTM(units=50, activation='relu', input_shape=(input_timesteps, num_features), return_sequences=True))\n",
    "    model.add(LSTM(units=50, activation='relu'))\n",
    "    model.add(Dense(num_features * output_timesteps))\n",
    "    model.add(Reshape((output_timesteps, num_features)))  # Reshape the output to match input shape\n",
    "    model.compile(optimizer='adam', loss='mse')\n",
    "    return model\n",
    "\n",
    "\n",
    "def plot_training_history(history):\n",
    "    plt.plot(history.history['loss'])\n",
    "    plt.title('Model loss')\n",
    "    plt.ylabel('Loss')\n",
    "    plt.xlabel('Epoch')\n",
    "    plt.legend(['Train'], loc='upper right')\n",
    "    plt.show()\n",
    "    \n",
    "def plot_actual_vs_predicted(X_test, y_test, model):\n",
    "    y_pred = model.predict(X_test)\n",
    "    plt.plot(y_test, label='Actual')\n",
    "    plt.plot(y_pred, label='Predicted')\n",
    "    plt.title('Actual vs Predicted')\n",
    "    plt.ylabel('Value')\n",
    "    plt.xlabel('Timestep')\n",
    "    plt.legend(loc='upper right')\n",
    "    plt.show()"
   ]
  },
  {
   "cell_type": "code",
   "execution_count": 20,
   "id": "53c6b13b",
   "metadata": {},
   "outputs": [
    {
     "name": "stdout",
     "output_type": "stream",
     "text": [
      "Stored 'input_timesteps' (int)\n",
      "Stored 'num_features' (int)\n"
     ]
    }
   ],
   "source": [
    "input_timesteps = 100\n",
    "output_timesteps = 500\n",
    "\n",
    "num_features = len(selected_features)\n",
    "\n",
    "%store input_timesteps\n",
    "%store num_features"
   ]
  },
  {
   "cell_type": "code",
   "execution_count": 21,
   "id": "827c53b5",
   "metadata": {},
   "outputs": [
    {
     "name": "stdout",
     "output_type": "stream",
     "text": [
      "Epoch 1/10\n",
      "52/53 [============================>.] - ETA: 0s - loss: 0.1605\n",
      "Epoch 1: loss improved from inf to 0.15909, saving model to model_checkpoint.h5\n",
      "53/53 [==============================] - 4s 40ms/step - loss: 0.1591\n",
      "Epoch 2/10\n",
      "52/53 [============================>.] - ETA: 0s - loss: 0.0169\n",
      "Epoch 2: loss improved from 0.15909 to 0.01698, saving model to model_checkpoint.h5\n",
      "53/53 [==============================] - 2s 42ms/step - loss: 0.0170\n",
      "Epoch 3/10\n",
      "53/53 [==============================] - ETA: 0s - loss: 0.0147\n",
      "Epoch 3: loss improved from 0.01698 to 0.01465, saving model to model_checkpoint.h5\n",
      "53/53 [==============================] - 2s 42ms/step - loss: 0.0147\n",
      "Epoch 4/10\n",
      "53/53 [==============================] - ETA: 0s - loss: 0.0144\n",
      "Epoch 4: loss improved from 0.01465 to 0.01439, saving model to model_checkpoint.h5\n",
      "53/53 [==============================] - 2s 39ms/step - loss: 0.0144\n",
      "Epoch 5/10\n",
      "52/53 [============================>.] - ETA: 0s - loss: 0.0143\n",
      "Epoch 5: loss improved from 0.01439 to 0.01425, saving model to model_checkpoint.h5\n",
      "53/53 [==============================] - 2s 41ms/step - loss: 0.0142\n",
      "Epoch 6/10\n",
      "53/53 [==============================] - ETA: 0s - loss: 0.0141\n",
      "Epoch 6: loss improved from 0.01425 to 0.01412, saving model to model_checkpoint.h5\n",
      "53/53 [==============================] - 2s 40ms/step - loss: 0.0141\n",
      "Epoch 7/10\n",
      "52/53 [============================>.] - ETA: 0s - loss: 0.0140\n",
      "Epoch 7: loss improved from 0.01412 to 0.01400, saving model to model_checkpoint.h5\n",
      "53/53 [==============================] - 2s 40ms/step - loss: 0.0140\n",
      "Epoch 8/10\n",
      "53/53 [==============================] - ETA: 0s - loss: 0.0139\n",
      "Epoch 8: loss improved from 0.01400 to 0.01391, saving model to model_checkpoint.h5\n",
      "53/53 [==============================] - 2s 43ms/step - loss: 0.0139\n",
      "Epoch 9/10\n",
      "53/53 [==============================] - ETA: 0s - loss: 0.0137\n",
      "Epoch 9: loss improved from 0.01391 to 0.01369, saving model to model_checkpoint.h5\n",
      "53/53 [==============================] - 2s 43ms/step - loss: 0.0137\n",
      "Epoch 10/10\n",
      "52/53 [============================>.] - ETA: 0s - loss: 0.0130\n",
      "Epoch 10: loss improved from 0.01369 to 0.01305, saving model to model_checkpoint.h5\n",
      "53/53 [==============================] - 2s 45ms/step - loss: 0.0131\n"
     ]
    },
    {
     "data": {
      "image/png": "[encoded data removed]",
      "text/plain": [
       "<Figure size 432x288 with 1 Axes>"
      ]
     },
     "metadata": {
      "needs_background": "light"
     },
     "output_type": "display_data"
    },
    {
     "ename": "ValueError",
     "evalue": "Unexpected result of `predict_function` (Empty batch_outputs). Please use `Model.compile(..., run_eagerly=True)`, or `tf.config.run_functions_eagerly(True)` for more information of where went wrong, or file a issue/bug to `tf.keras`.",
     "output_type": "error",
     "traceback": [
      "\u001b[1;31m---------------------------------------------------------------------------\u001b[0m",
      "\u001b[1;31mValueError\u001b[0m                                Traceback (most recent call last)",
      "\u001b[1;32m<ipython-input-21-9b7a72381241>\u001b[0m in \u001b[0;36m<module>\u001b[1;34m\u001b[0m\n\u001b[0;32m     22\u001b[0m \u001b[1;32mfor\u001b[0m \u001b[0mtest_sim_data\u001b[0m \u001b[1;32min\u001b[0m \u001b[0mtest_data\u001b[0m\u001b[1;33m:\u001b[0m\u001b[1;33m\u001b[0m\u001b[1;33m\u001b[0m\u001b[0m\n\u001b[0;32m     23\u001b[0m     \u001b[0mX_test\u001b[0m\u001b[1;33m,\u001b[0m \u001b[0my_test\u001b[0m \u001b[1;33m=\u001b[0m \u001b[0mprepare_data\u001b[0m\u001b[1;33m(\u001b[0m\u001b[0mtest_sim_data\u001b[0m\u001b[1;33m,\u001b[0m \u001b[0minput_timesteps\u001b[0m\u001b[1;33m,\u001b[0m \u001b[0moutput_timesteps\u001b[0m\u001b[1;33m,\u001b[0m \u001b[0mtarget_col\u001b[0m\u001b[1;33m)\u001b[0m\u001b[1;33m\u001b[0m\u001b[1;33m\u001b[0m\u001b[0m\n\u001b[1;32m---> 24\u001b[1;33m     \u001b[0mplot_actual_vs_predicted\u001b[0m\u001b[1;33m(\u001b[0m\u001b[0mX_test\u001b[0m\u001b[1;33m,\u001b[0m \u001b[0my_test\u001b[0m\u001b[1;33m,\u001b[0m \u001b[0mmodel\u001b[0m\u001b[1;33m)\u001b[0m\u001b[1;33m\u001b[0m\u001b[1;33m\u001b[0m\u001b[0m\n\u001b[0m",
      "\u001b[1;32m<ipython-input-19-8157df6871c3>\u001b[0m in \u001b[0;36mplot_actual_vs_predicted\u001b[1;34m(X_test, y_test, model)\u001b[0m\n\u001b[0;32m     40\u001b[0m \u001b[1;33m\u001b[0m\u001b[0m\n\u001b[0;32m     41\u001b[0m \u001b[1;32mdef\u001b[0m \u001b[0mplot_actual_vs_predicted\u001b[0m\u001b[1;33m(\u001b[0m\u001b[0mX_test\u001b[0m\u001b[1;33m,\u001b[0m \u001b[0my_test\u001b[0m\u001b[1;33m,\u001b[0m \u001b[0mmodel\u001b[0m\u001b[1;33m)\u001b[0m\u001b[1;33m:\u001b[0m\u001b[1;33m\u001b[0m\u001b[1;33m\u001b[0m\u001b[0m\n\u001b[1;32m---> 42\u001b[1;33m     \u001b[0my_pred\u001b[0m \u001b[1;33m=\u001b[0m \u001b[0mmodel\u001b[0m\u001b[1;33m.\u001b[0m\u001b[0mpredict\u001b[0m\u001b[1;33m(\u001b[0m\u001b[0mX_test\u001b[0m\u001b[1;33m)\u001b[0m\u001b[1;33m\u001b[0m\u001b[1;33m\u001b[0m\u001b[0m\n\u001b[0m\u001b[0;32m     43\u001b[0m     \u001b[0mplt\u001b[0m\u001b[1;33m.\u001b[0m\u001b[0mplot\u001b[0m\u001b[1;33m(\u001b[0m\u001b[0my_test\u001b[0m\u001b[1;33m,\u001b[0m \u001b[0mlabel\u001b[0m\u001b[1;33m=\u001b[0m\u001b[1;34m'Actual'\u001b[0m\u001b[1;33m)\u001b[0m\u001b[1;33m\u001b[0m\u001b[1;33m\u001b[0m\u001b[0m\n\u001b[0;32m     44\u001b[0m     \u001b[0mplt\u001b[0m\u001b[1;33m.\u001b[0m\u001b[0mplot\u001b[0m\u001b[1;33m(\u001b[0m\u001b[0my_pred\u001b[0m\u001b[1;33m,\u001b[0m \u001b[0mlabel\u001b[0m\u001b[1;33m=\u001b[0m\u001b[1;34m'Predicted'\u001b[0m\u001b[1;33m)\u001b[0m\u001b[1;33m\u001b[0m\u001b[1;33m\u001b[0m\u001b[0m\n",
      "\u001b[1;32mC:\\ProgramData\\Anaconda3\\lib\\site-packages\\keras\\utils\\traceback_utils.py\u001b[0m in \u001b[0;36merror_handler\u001b[1;34m(*args, **kwargs)\u001b[0m\n\u001b[0;32m     68\u001b[0m             \u001b[1;31m# To get the full stack trace, call:\u001b[0m\u001b[1;33m\u001b[0m\u001b[1;33m\u001b[0m\u001b[1;33m\u001b[0m\u001b[0m\n\u001b[0;32m     69\u001b[0m             \u001b[1;31m# `tf.debugging.disable_traceback_filtering()`\u001b[0m\u001b[1;33m\u001b[0m\u001b[1;33m\u001b[0m\u001b[1;33m\u001b[0m\u001b[0m\n\u001b[1;32m---> 70\u001b[1;33m             \u001b[1;32mraise\u001b[0m \u001b[0me\u001b[0m\u001b[1;33m.\u001b[0m\u001b[0mwith_traceback\u001b[0m\u001b[1;33m(\u001b[0m\u001b[0mfiltered_tb\u001b[0m\u001b[1;33m)\u001b[0m \u001b[1;32mfrom\u001b[0m \u001b[1;32mNone\u001b[0m\u001b[1;33m\u001b[0m\u001b[1;33m\u001b[0m\u001b[0m\n\u001b[0m\u001b[0;32m     71\u001b[0m         \u001b[1;32mfinally\u001b[0m\u001b[1;33m:\u001b[0m\u001b[1;33m\u001b[0m\u001b[1;33m\u001b[0m\u001b[0m\n\u001b[0;32m     72\u001b[0m             \u001b[1;32mdel\u001b[0m \u001b[0mfiltered_tb\u001b[0m\u001b[1;33m\u001b[0m\u001b[1;33m\u001b[0m\u001b[0m\n",
      "\u001b[1;32mC:\\ProgramData\\Anaconda3\\lib\\site-packages\\keras\\engine\\training.py\u001b[0m in \u001b[0;36mpredict\u001b[1;34m(self, x, batch_size, verbose, steps, callbacks, max_queue_size, workers, use_multiprocessing)\u001b[0m\n\u001b[0;32m   2276\u001b[0m                         )\n\u001b[0;32m   2277\u001b[0m             \u001b[1;32mif\u001b[0m \u001b[0mbatch_outputs\u001b[0m \u001b[1;32mis\u001b[0m \u001b[1;32mNone\u001b[0m\u001b[1;33m:\u001b[0m\u001b[1;33m\u001b[0m\u001b[1;33m\u001b[0m\u001b[0m\n\u001b[1;32m-> 2278\u001b[1;33m                 raise ValueError(\n\u001b[0m\u001b[0;32m   2279\u001b[0m                     \u001b[1;34m\"Unexpected result of `predict_function` \"\u001b[0m\u001b[1;33m\u001b[0m\u001b[1;33m\u001b[0m\u001b[0m\n\u001b[0;32m   2280\u001b[0m                     \u001b[1;34m\"(Empty batch_outputs). Please use \"\u001b[0m\u001b[1;33m\u001b[0m\u001b[1;33m\u001b[0m\u001b[0m\n",
      "\u001b[1;31mValueError\u001b[0m: Unexpected result of `predict_function` (Empty batch_outputs). Please use `Model.compile(..., run_eagerly=True)`, or `tf.config.run_functions_eagerly(True)` for more information of where went wrong, or file a issue/bug to `tf.keras`."
     ]
    }
   ],
   "source": [
    "# Add a checkpoint system\n",
    "checkpoint_filepath = \"model_checkpoint.h5\"\n",
    "checkpoint_callback = ModelCheckpoint(\n",
    "    filepath=checkpoint_filepath,\n",
    "    monitor='loss', # Change this to 'val_loss' if you have validation data\n",
    "    mode='min',\n",
    "    save_best_only=True,\n",
    "    save_weights_only=False,\n",
    "    verbose=1\n",
    ")\n",
    "\n",
    "model = create_lstm_model(input_timesteps, num_features, output_timesteps)\n",
    "\n",
    "# Train the LSTM model on each simulation separately with the checkpoint callback\n",
    "for train_sim_data in train_data:\n",
    "    X_train, y_train = prepare_data(train_sim_data, input_timesteps, output_timesteps, target_col)\n",
    "    history = model.fit(X_train, y_train, epochs=10, batch_size=16, verbose=1, callbacks=[checkpoint_callback])\n",
    "    plot_training_history(history)\n",
    "\n",
    "model.save(\"my_model.h5\")\n",
    "\n",
    "for test_sim_data in test_data:\n",
    "    X_test, y_test = prepare_data(test_sim_data, input_timesteps, output_timesteps, target_col)\n",
    "    plot_actual_vs_predicted(X_test, y_test, model)"
   ]
  },
  {
   "cell_type": "code",
   "execution_count": null,
   "id": "fc5f955d",
   "metadata": {},
   "outputs": [],
   "source": []
  }
 ],
 "metadata": {
  "kernelspec": {
   "display_name": "Python 3",
   "language": "python",
   "name": "python3"
  },
  "language_info": {
   "codemirror_mode": {
    "name": "ipython",
    "version": 3
   },
   "file_extension": ".py",
   "mimetype": "text/x-python",
   "name": "python",
   "nbconvert_exporter": "python",
   "pygments_lexer": "ipython3",
   "version": "3.8.8"
  }
 },
 "nbformat": 4,
 "nbformat_minor": 5
}
