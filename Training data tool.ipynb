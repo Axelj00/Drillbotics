{
 "cells": [
  {
   "cell_type": "markdown",
   "id": "68199639",
   "metadata": {},
   "source": [
    "### Training data tool"
   ]
  },
  {
   "cell_type": "markdown",
   "id": "e6c98245",
   "metadata": {},
   "source": [
    "This code generates synthetic drilling data by running a drilling simulator in OpenLab and storing the results in a Pandas DataFrame. The user can specify the simulation time, as well as setpoint values for various parameters such as surface RPM, desired WOB, and flow rate.\n",
    "\n",
    "The code creates a DataFrame with columns for various drilling parameters, including SPP, hook load, downhole pressure, fluid temperature, and many others. The DataFrame is saved to a CSV file, with the file name including a timestamp and information about whether the data is intended for training or validation purposes.\n",
    "\n",
    "Overall, this code allows users to generate large amounts of synthetic drilling data for use in machine learning models or other data analysis tasks. By adjusting the simulation time and setpoint values, users can create data that is representative of a wide range of drilling conditions."
   ]
  },
  {
   "cell_type": "code",
   "execution_count": 1,
   "id": "ef89f3d3",
   "metadata": {},
   "outputs": [],
   "source": [
    "# quick config edit:\n",
    "Configuration_Name = \"training_data_tool\"\n",
    "Simulation_Name = \"sim\"\n",
    "Initial_Bit_Depth = 2500"
   ]
  },
  {
   "cell_type": "code",
   "execution_count": 2,
   "id": "894b17fd",
   "metadata": {},
   "outputs": [],
   "source": [
    "# importing\n",
    "import openlab\n",
    "import os\n",
    "import matplotlib.pyplot as plt\n",
    "import numpy as np\n",
    "import time\n",
    "import pandas as pd\n",
    "import time\n",
    "import random\n",
    "import pprint\n",
    "import datetime\n",
    "\n",
    "from IPython.display import clear_output\n",
    "from datetime import datetime"
   ]
  },
  {
   "cell_type": "code",
   "execution_count": 3,
   "id": "2aaf15a5",
   "metadata": {},
   "outputs": [],
   "source": [
    "# Initializing http client\n",
    "username=\"ax.jorgensen@stud.uis.no\"\n",
    "apikey=\"EDE1872A07785D868992DEBB642A81C2DB726ECCA6E0DF115A44E43C6248AE8A\"\n",
    "licenseguid=\"c3a0315b-813c-4e0b-8ec9-e14436a1783d\""
   ]
  },
  {
   "cell_type": "code",
   "execution_count": 4,
   "id": "c3b9a256",
   "metadata": {
    "scrolled": false
   },
   "outputs": [
    {
     "name": "stdout",
     "output_type": "stream",
     "text": [
      "Initializing http client...\n",
      "Saving token...\n",
      "Login Succesfull\n",
      "Your openlab version 2.3.0 is outdated. Consider upgrading to 2.5.6\n"
     ]
    }
   ],
   "source": [
    "# start a session\n",
    "session = openlab.http_client(username=username, apikey=apikey, licenseguid=licenseguid)"
   ]
  },
  {
   "cell_type": "code",
   "execution_count": 5,
   "id": "6e5fbf10",
   "metadata": {},
   "outputs": [],
   "source": [
    "# creating the configuration. ps: the config will have to be made \"by hand\" in openlab website.\n",
    "config_name = Configuration_Name\n",
    "sim_name = Simulation_Name\n",
    "initial_depth = Initial_Bit_Depth"
   ]
  },
  {
   "cell_type": "code",
   "execution_count": 6,
   "id": "6fa7c9fa",
   "metadata": {},
   "outputs": [
    {
     "name": "stdout",
     "output_type": "stream",
     "text": [
      "User limits: {'ActiveSimulationCount': 0, 'MaxConcurrentSimulations': 5, 'MaxSimulationCount': 0, 'MaxStepCount': 180000, 'MaxStoredSimulations': 10, 'MaxTimeStep': 18000, 'TotalSimulationCount': 1114, 'UsedCapacityPercent': 1, 'UsedStepCount': 2532}\n",
      "influx_type:  {}\n",
      "No influx mode selected. Defaulting to 'no influx and loss'\n",
      "Using non-transient model\n",
      "Simulation Initialized\n"
     ]
    }
   ],
   "source": [
    "# start a test session\n",
    "sim = session.create_simulation(config_name,sim_name,initial_depth)"
   ]
  },
  {
   "cell_type": "code",
   "execution_count": 7,
   "id": "76463734",
   "metadata": {},
   "outputs": [
    {
     "name": "stdout",
     "output_type": "stream",
     "text": [
      "Are you making data for NN purposes? (yes/no): yes\n",
      "df will be saved in jupyter as df_training.\n"
     ]
    }
   ],
   "source": [
    "# ask user if he/she is making training data\n",
    "user_input = input(\"Are you making training data? (yes/no): \")\n",
    "\n",
    "statement = False\n",
    "# Check user's response\n",
    "if user_input.lower() == \"yes\":\n",
    "    statement = True\n",
    "    print(\"df will be saved in jupyter as df_training.\")\n",
    "else:\n",
    "    print(\"df will be saved in jupyter as df_validation.\")"
   ]
  },
  {
   "cell_type": "code",
   "execution_count": 8,
   "id": "bda26794",
   "metadata": {},
   "outputs": [
    {
     "name": "stdout",
     "output_type": "stream",
     "text": [
      "There will be 1 simulations, lasting for 30 minutes, equalling to 1800 timeSteps.\n"
     ]
    }
   ],
   "source": [
    "# logic and length of sim/duration of generation\n",
    "if statement == True:\n",
    "    single_simulation_lenght = 30 #min\n",
    "    total_simulation_length =  0.5#hrs\n",
    "\n",
    "    step_per_sim = single_simulation_lenght*60 \n",
    "    nr_sim = int(total_simulation_length*60/single_simulation_lenght)\n",
    "    total_steps = nr_sim*step_per_sim\n",
    "\n",
    "    print(f\"There will be {nr_sim} simulations, lasting for {single_simulation_lenght} minutes, equalling to {total_steps} timeSteps.\")\n",
    "else:\n",
    "    single_simulation_lenght = 30 #min\n",
    "    total_simulation_length =  0.5#hrs\n",
    "\n",
    "    step_per_sim = single_simulation_lenght*60 \n",
    "    nr_sim = int(total_simulation_length*60/single_simulation_lenght)\n",
    "    total_steps = nr_sim*step_per_sim\n",
    "\n",
    "    print(f\"There will be {nr_sim} simulations, lasting for {single_simulation_lenght} minutes, equalling to {total_steps} timeSteps.\")"
   ]
  },
  {
   "cell_type": "code",
   "execution_count": 9,
   "id": "ea1caeb2",
   "metadata": {},
   "outputs": [],
   "source": [
    "# lists that will be used for making each simulation unique\n",
    "initial_depth = 2500\n",
    "\n",
    "SurfaceRPM = [random.randint(0, 220) for _ in range(nr_sim)]\n",
    "SurfaceRPM = [rpm/60 for rpm in SurfaceRPM]\n",
    "\n",
    "DesiredWOB = [random.randint(0, 40) for _ in range(nr_sim)]\n",
    "DesiredWOB = [wob*1000 for wob in DesiredWOB]\n",
    "\n",
    "FlowRateIn = [random.randint(0, 3000) for _ in range(nr_sim)]\n",
    "FlowRateIn = [flow_rate/60000 for flow_rate in FlowRateIn]"
   ]
  },
  {
   "cell_type": "code",
   "execution_count": 10,
   "id": "df026757",
   "metadata": {},
   "outputs": [],
   "source": [
    "# dataframe and tags stuff\n",
    "tags = ['SPP', 'DownholeECD', 'FlowRateOut', 'HookLoad', 'SurfaceTorque', 'BitDepth', 'TD', 'ChokeOpening', 'DownholePressure', 'ChokePressure', 'FluidTemperatureOut', 'WOB', 'InstantaneousROP', 'FlowRateIn', 'TopOfStringVelocity', 'SurfaceRPM', 'DrillstringTemperature', 'TotalInfluxMass', 'CalculatedPressureBottomHole', 'CuttingsMassFractionTransient', 'FluidTemperatureIn', 'AnnulusECD', 'AnnulusTemperature', 'DrillstringTension', 'AnnulusFluidVelocity', 'DrillstringFluidVelocity', 'CuttingsBedHeight', 'AnnulusDensity', 'DrillstringTorque', 'TotalMudLossMass', 'TopOfStringPosition', 'ActivePitVolume', 'ActivePitDensity', 'ActivePitTemperature', 'MainPitVolume', 'MainPitDensity', 'MainPitTemperature', 'ReservePitVolume', 'ReservePitDensity', 'ReservePitTemperature']\n",
    "ID = [\"sim_ID\", \"timeStep\"]\n",
    "columns = tags + ID\n",
    "\n",
    "\n",
    "df = pd.DataFrame(columns=columns)"
   ]
  },
  {
   "cell_type": "code",
   "execution_count": 11,
   "id": "a846884d",
   "metadata": {},
   "outputs": [
    {
     "name": "stdout",
     "output_type": "stream",
     "text": [
      "               SPP  DownholeECD   FlowRateOut       HookLoad  SurfaceTorque  \\\n",
      "0     1.811731e+05  1374.382178 -2.229704e-07  244120.083947   11768.734936   \n",
      "1     1.201131e+06  1374.382616 -2.495278e-07  243656.593967   11828.442007   \n",
      "2     1.647691e+06  1374.445902  2.791874e-05  243568.579521   11815.869614   \n",
      "3     2.206723e+06  1377.834651  2.970509e-04  243437.607508   11780.461624   \n",
      "4     2.726786e+06  1399.198158  1.960908e-04  243270.228332   11791.251325   \n",
      "...            ...          ...           ...            ...            ...   \n",
      "1795  2.738621e+06  1399.027153  1.420080e-02 -334209.107879  278179.200127   \n",
      "1796  2.740301e+06  1399.026766  1.419990e-02 -334679.437345  278503.414619   \n",
      "1797  2.741182e+06  1399.025815  1.420016e-02 -335143.901070  278801.773173   \n",
      "1798  2.739086e+06  1399.024682  1.420193e-02 -335615.125081  279129.524568   \n",
      "1799  2.738789e+06  1399.024612  1.420251e-02 -336081.486642  279451.011621   \n",
      "\n",
      "         BitDepth           TD  ChokeOpening  DownholePressure  ChokePressure  \\\n",
      "0     2500.001000  2500.001000           1.0      2.866872e+07       101325.0   \n",
      "1     2500.001000  2500.001000           1.0      2.866873e+07       101325.0   \n",
      "2     2500.001000  2500.001000           1.0      2.867005e+07       101325.0   \n",
      "3     2500.001000  2500.001000           1.0      2.874048e+07       101325.0   \n",
      "4     2500.001000  2500.001000           1.0      2.918454e+07       101325.0   \n",
      "...           ...          ...           ...               ...            ...   \n",
      "1795  2506.850866  2506.850866           1.0      2.925161e+07       101325.0   \n",
      "1796  2506.855725  2506.855725           1.0      2.925165e+07       101325.0   \n",
      "1797  2506.860584  2506.860584           1.0      2.925168e+07       101325.0   \n",
      "1798  2506.865443  2506.865443           1.0      2.925171e+07       101325.0   \n",
      "1799  2506.870302  2506.870302           1.0      2.925176e+07       101325.0   \n",
      "\n",
      "      ...  ActivePitDensity  ActivePitTemperature  MainPitVolume  \\\n",
      "0     ...       1350.000000            323.150000      30.000000   \n",
      "1     ...       1350.000000            323.150000      29.998333   \n",
      "2     ...       1350.000000            323.150000      29.995000   \n",
      "3     ...       1350.000000            323.150000      29.990000   \n",
      "4     ...       1350.000000            323.150000      29.983333   \n",
      "...   ...               ...                   ...            ...   \n",
      "1795  ...       1367.718914            300.539412      27.872189   \n",
      "1796  ...       1367.726225            300.529746      27.872342   \n",
      "1797  ...       1367.733532            300.520084      27.872494   \n",
      "1798  ...       1367.740835            300.510428      27.872647   \n",
      "1799  ...       1367.748135            300.500777      27.872799   \n",
      "\n",
      "      MainPitDensity  MainPitTemperature  ReservePitVolume ReservePitDensity  \\\n",
      "0        1350.000000          323.150000              30.0            1400.0   \n",
      "1        1350.000000          323.150000              30.0            1400.0   \n",
      "2        1350.000000          323.150000              30.0            1400.0   \n",
      "3        1350.000000          323.150000              30.0            1400.0   \n",
      "4        1350.000000          323.150000              30.0            1400.0   \n",
      "...              ...                 ...               ...               ...   \n",
      "1795     1367.718914          300.539412              30.0            1400.0   \n",
      "1796     1367.726225          300.529746              30.0            1400.0   \n",
      "1797     1367.733532          300.520084              30.0            1400.0   \n",
      "1798     1367.740835          300.510428              30.0            1400.0   \n",
      "1799     1367.748135          300.500777              30.0            1400.0   \n",
      "\n",
      "      ReservePitTemperature  sim_ID timeStep  \n",
      "0                    323.15       0        1  \n",
      "1                    323.15       0        2  \n",
      "2                    323.15       0        3  \n",
      "3                    323.15       0        4  \n",
      "4                    323.15       0        5  \n",
      "...                     ...     ...      ...  \n",
      "1795                 323.15       0     1796  \n",
      "1796                 323.15       0     1797  \n",
      "1797                 323.15       0     1798  \n",
      "1798                 323.15       0     1799  \n",
      "1799                 323.15       0     1800  \n",
      "\n",
      "[1800 rows x 42 columns]\n",
      "Ending simulation 63215663-268b-4284-b404-da68173443a4\n",
      "63215663-268b-4284-b404-da68173443a4 was completed\n"
     ]
    }
   ],
   "source": [
    "startTime = 1\n",
    "endTime = single_simulation_lenght*60\n",
    "\n",
    "timeStep = 1\n",
    "current_simulation = 0\n",
    "\n",
    "sim.stop()\n",
    "\n",
    "while current_simulation < nr_sim:\n",
    "    \n",
    "    print(current_simulation)\n",
    "    sim_ID = current_simulation\n",
    "    sim = session.create_simulation(config_name,sim_name,initial_depth)\n",
    "    \n",
    "    sim.setpoints.SurfaceRPM = SurfaceRPM[0+current_simulation]\n",
    "    sim.setpoints.DesiredWOB = DesiredWOB[0+current_simulation]\n",
    "    sim.setpoints.FlowRateIn = FlowRateIn[0+current_simulation]\n",
    "    sim.setpoints.TopOfStringVelocity = 0.02 #m/s\n",
    "    sim.setpoints.DesiredROP = 0.02\n",
    "    values = {}\n",
    "    while timeStep <= endTime:\n",
    "\n",
    "        sim.step(timeStep) # stepping openlab\n",
    "        sim.get_results(timeStep, tags) # fetching results\n",
    "\n",
    "        for feature in tags:\n",
    "            # Skip \"Connection\" feature\n",
    "            if feature == \"Connection\":\n",
    "                continue\n",
    "            # Create the variable name for the current feature\n",
    "            var_name = f\"{feature}\"\n",
    "            # Extract the value of the feature at this time step\n",
    "            value_dict = eval(f\"sim.results.{var_name}\")\n",
    "            value = list(value_dict.values())[-1]  # Extract the value as a number\n",
    "            # Add the value to the dictionary\n",
    "            values[feature] = value\n",
    "\n",
    "        # Update other variables based on the current time step and simulation ID, and add them to the dictionary\n",
    "        values['timeStep'] = timeStep\n",
    "        values['sim_ID'] = sim_ID\n",
    "\n",
    "        # Append the dictionary to the dataframe\n",
    "        df = df.append(values, ignore_index=True)\n",
    "        pprint.pprint(df.tail(1))\n",
    "        clear_output(wait=True)\n",
    "        \n",
    "        # Increment the time step\n",
    "        timeStep += 1\n",
    "\n",
    "    # Print the entire dataframe after the inner while loop has completed\n",
    "    print(df)\n",
    "    \n",
    "    sim.stop()\n",
    "    timeStep = 1\n",
    "    current_simulation += 1"
   ]
  },
  {
   "cell_type": "code",
   "execution_count": 13,
   "id": "b43341bc",
   "metadata": {},
   "outputs": [
    {
     "name": "stdout",
     "output_type": "stream",
     "text": [
      "File saved to: trainingdata\\df_training_1800x42:14_03_17_15.csv\n"
     ]
    }
   ],
   "source": [
    "# Get the number of rows and columns in the DataFrame\n",
    "num_rows, num_cols = df.shape\n",
    "\n",
    "# Get time to save the file with\n",
    "now = datetime.now()\n",
    "time = now.strftime(\"%d_%m_%H_%M\")\n",
    "\n",
    "if statement == True:\n",
    "    word = \"training\"\n",
    "else:\n",
    "    word = \"validation\"\n",
    "\n",
    "# Construct the file name using the DataFrame shape\n",
    "file_name = f\"df_{word}_{num_rows}x{num_cols}:{time}.csv\"\n",
    "\n",
    "# Create a directory named \"trainingdata\" in the current working directory (if it doesn't already exist)\n",
    "directory = \"trainingdata\"\n",
    "if not os.path.exists(directory):\n",
    "    os.makedirs(directory)\n",
    "\n",
    "# Save the DataFrame to a file in the \"trainingdata\" directory\n",
    "file_path = os.path.join(directory, file_name)\n",
    "df.to_csv(file_path, index=False)\n",
    "\n",
    "# Print the file path for confirmation\n",
    "print(\"File saved to:\", file_path)"
   ]
  },
  {
   "cell_type": "code",
   "execution_count": 14,
   "id": "2e02ff47",
   "metadata": {},
   "outputs": [
    {
     "name": "stdout",
     "output_type": "stream",
     "text": [
      "Stored 'df_training' (DataFrame)\n"
     ]
    }
   ],
   "source": [
    "if statement == True:\n",
    "    df_training = df\n",
    "    %store df_training\n",
    "else:\n",
    "    df_validation = df\n",
    "    %store df_validation"
   ]
  }
 ],
 "metadata": {
  "kernelspec": {
   "display_name": "Python 3",
   "language": "python",
   "name": "python3"
  },
  "language_info": {
   "codemirror_mode": {
    "name": "ipython",
    "version": 3
   },
   "file_extension": ".py",
   "mimetype": "text/x-python",
   "name": "python",
   "nbconvert_exporter": "python",
   "pygments_lexer": "ipython3",
   "version": "3.8.8"
  }
 },
 "nbformat": 4,
 "nbformat_minor": 5
}
